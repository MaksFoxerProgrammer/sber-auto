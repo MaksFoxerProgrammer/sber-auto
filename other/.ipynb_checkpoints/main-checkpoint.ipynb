version https://git-lfs.github.com/spec/v1
oid sha256:5463766bd6c6d93d8d82c6aeee27c37af0b7352d9d98bc26d4ab47d69e3257fa
size 462040
