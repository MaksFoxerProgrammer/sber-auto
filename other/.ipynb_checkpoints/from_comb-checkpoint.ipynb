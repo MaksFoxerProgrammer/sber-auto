version https://git-lfs.github.com/spec/v1
oid sha256:1585c77d244a3cf696477c4c2dd513192fbc6db9a53c1678307d38548de8f049
size 241969
