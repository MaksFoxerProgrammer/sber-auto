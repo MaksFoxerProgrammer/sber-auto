version https://git-lfs.github.com/spec/v1
oid sha256:690a5efa547fe426e5b31d66b3b0016d9feb848973e97147a148fb103d8255b9
size 56393
