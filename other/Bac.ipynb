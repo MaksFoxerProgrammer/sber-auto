version https://git-lfs.github.com/spec/v1
oid sha256:8d12625558426dc8bd9b05668b97946ec187617bd6206675344f26aa9a0339c4
size 86215
