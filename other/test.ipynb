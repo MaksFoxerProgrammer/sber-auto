version https://git-lfs.github.com/spec/v1
oid sha256:195110c1af49ab95c64356a28d1a6f73fb88cfb8b1ac2fd853a5a5bafc016568
size 60545
